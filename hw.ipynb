{
 "cells": [
  {
   "cell_type": "code",
   "execution_count": 0,
   "metadata": {
    "application/vnd.databricks.v1+cell": {
     "cellMetadata": {
      "byteLimit": 2048000,
      "rowLimit": 10000
     },
     "inputWidgets": {},
     "nuid": "bcb626f9-15af-4e72-b2ce-6380012ba843",
     "showTitle": false,
     "tableResultSettingsMap": {},
     "title": ""
    }
   },
   "outputs": [],
   "source": [
    "df_races = spark.read.csv('s3://columbia-gr5069-main/raw/races.csv', header=True)\n",
    "df_results = spark.read.csv('s3://columbia-gr5069-main/raw/results.csv', header=True)\n",
    "df_driver = spark.read.csv('s3://columbia-gr5069-main/raw/drivers.csv', header=True)\n",
    "df_pit_stops = spark.read.csv('s3://columbia-gr5069-main/raw/pit_stops.csv', header=True)"
   ]
  },
  {
   "cell_type": "code",
   "execution_count": 0,
   "metadata": {
    "application/vnd.databricks.v1+cell": {
     "cellMetadata": {
      "byteLimit": 2048000,
      "rowLimit": 10000
     },
     "inputWidgets": {},
     "nuid": "e562ba2b-9d9a-42c7-b090-9d73c69499c3",
     "showTitle": false,
     "tableResultSettingsMap": {},
     "title": ""
    }
   },
   "outputs": [],
   "source": [
    "df_races.show(5)\n",
    "df_results.show(5)\n",
    "df_driver.show(5)\n",
    "df_pit_stops.show(5)"
   ]
  },
  {
   "cell_type": "markdown",
   "metadata": {
    "application/vnd.databricks.v1+cell": {
     "cellMetadata": {
      "byteLimit": 2048000,
      "rowLimit": 10000
     },
     "inputWidgets": {},
     "nuid": "7eb25435-4a18-49e0-a816-b2d0260a7158",
     "showTitle": false,
     "tableResultSettingsMap": {},
     "title": ""
    }
   },
   "source": [
    "1. [`10 pts`] What was the average time each driver spent at the pit stop for each race?"
   ]
  },
  {
   "cell_type": "code",
   "execution_count": 0,
   "metadata": {
    "application/vnd.databricks.v1+cell": {
     "cellMetadata": {
      "byteLimit": 2048000,
      "rowLimit": 10000
     },
     "inputWidgets": {},
     "nuid": "0c69bd5c-53b2-4c7d-b7d1-e85d34594eaa",
     "showTitle": false,
     "tableResultSettingsMap": {},
     "title": ""
    }
   },
   "outputs": [],
   "source": [
    "from pyspark.sql.functions import col, avg\n",
    "\n",
    "avg_pit_time = df_pit_stops.groupBy(\"raceId\", \"driverId\") \\\n",
    "    .agg(avg(\"milliseconds\").alias(\"avg_pit_time_ms\"))\n",
    "\n",
    "avg_pit_time.show()"
   ]
  },
  {
   "cell_type": "markdown",
   "metadata": {
    "application/vnd.databricks.v1+cell": {
     "cellMetadata": {
      "byteLimit": 2048000,
      "rowLimit": 10000
     },
     "inputWidgets": {},
     "nuid": "14e7bed4-af63-4fd5-b9ac-f8a6e6b9f65a",
     "showTitle": false,
     "tableResultSettingsMap": {},
     "title": ""
    }
   },
   "source": [
    "2. [`20 pts`] Rank the average time spent at the pit stop in order of who won each race"
   ]
  },
  {
   "cell_type": "code",
   "execution_count": 0,
   "metadata": {
    "application/vnd.databricks.v1+cell": {
     "cellMetadata": {
      "byteLimit": 2048000,
      "rowLimit": 10000
     },
     "inputWidgets": {},
     "nuid": "ead6f130-fc7e-4584-a803-4bd888a50d7c",
     "showTitle": false,
     "tableResultSettingsMap": {},
     "title": ""
    }
   },
   "outputs": [],
   "source": [
    "from pyspark.sql.functions import asc\n",
    "\n",
    "# 找出每场比赛的获胜者\n",
    "winners = df_results.filter(col(\"positionOrder\") == \"1\") \\\n",
    "    .select(\"raceId\", \"driverId\").withColumnRenamed(\"driverId\", \"winnerId\")\n",
    "\n",
    "# 将第1题结果与获胜者 join\n",
    "avg_pit_with_winner = avg_pit_time.join(winners, on=\"raceId\")\n",
    "\n",
    "# 按照获胜者 ID 排序\n",
    "avg_pit_with_winner.orderBy(\"winnerId\").show()"
   ]
  },
  {
   "cell_type": "markdown",
   "metadata": {
    "application/vnd.databricks.v1+cell": {
     "cellMetadata": {
      "byteLimit": 2048000,
      "rowLimit": 10000
     },
     "inputWidgets": {},
     "nuid": "8dbb33cb-86fd-481e-b2e8-d1285af6f716",
     "showTitle": false,
     "tableResultSettingsMap": {},
     "title": ""
    }
   },
   "source": [
    "3. [`20 pts`] Insert the missing code (e.g: ALO for Alonso) for drivers based on the 'drivers' dataset"
   ]
  },
  {
   "cell_type": "code",
   "execution_count": 0,
   "metadata": {
    "application/vnd.databricks.v1+cell": {
     "cellMetadata": {
      "byteLimit": 2048000,
      "rowLimit": 10000
     },
     "inputWidgets": {},
     "nuid": "a6b22ca5-89b7-405a-ab7d-a980c7540861",
     "showTitle": false,
     "tableResultSettingsMap": {},
     "title": ""
    }
   },
   "outputs": [],
   "source": [
    "# 有的 driver 可能缺 code，补上\n",
    "df_driver_code = df_driver.select(\"driverId\", \"code\")\n",
    "\n",
    "# 加入到结果中\n",
    "avg_pit_with_code = avg_pit_time.join(df_driver_code, on=\"driverId\", how=\"left\")\n",
    "avg_pit_with_code.show()"
   ]
  },
  {
   "cell_type": "markdown",
   "metadata": {
    "application/vnd.databricks.v1+cell": {
     "cellMetadata": {
      "byteLimit": 2048000,
      "rowLimit": 10000
     },
     "inputWidgets": {},
     "nuid": "b1b27938-ad00-4389-8cce-fc916f288524",
     "showTitle": false,
     "tableResultSettingsMap": {},
     "title": ""
    }
   },
   "source": [
    "4. [`20 pts`] Who is the youngest and oldest driver for each race? Create a new column called “Age”"
   ]
  },
  {
   "cell_type": "code",
   "execution_count": 0,
   "metadata": {
    "application/vnd.databricks.v1+cell": {
     "cellMetadata": {
      "byteLimit": 2048000,
      "rowLimit": 10000
     },
     "inputWidgets": {},
     "nuid": "55f5085d-b1f5-47ce-b442-0bb0f484b35d",
     "showTitle": false,
     "tableResultSettingsMap": {},
     "title": ""
    }
   },
   "outputs": [],
   "source": [
    "from pyspark.sql.functions import datediff, col, min\n",
    "\n",
    "# 选择所需的列\n",
    "driver_bob = df_driver.select(\"driverId\", \"dob\")\n",
    "races_date = df_races.select(\"raceId\", \"date\")\n",
    "\n",
    "# 计算每个车手在每场比赛中的年龄\n",
    "results_with_age = (\n",
    "    df_results.select(\"raceId\", \"driverId\")\n",
    "    .join(races_date, on=\"raceId\")\n",
    "    .join(driver_bob, on=\"driverId\")\n",
    "    .withColumn(\"age\", datediff(col(\"date\"), col(\"dob\")))\n",
    ")\n",
    "\n",
    "# 找出每场比赛年龄最小和最大的车手\n",
    "youngest = results_with_age.groupBy(\"raceId\").agg(min(\"age\").alias(\"min_age\"))\n",
    "oldest = results_with_age.groupBy(\"raceId\").agg(max(\"age\").alias(\"max_age\"))\n",
    "\n",
    "# 将结果与原始数据集进行连接，以找到对应的车手\n",
    "youngest_drivers = results_with_age.alias(\"a\").join(\n",
    "    youngest.alias(\"b\"), \n",
    "    (col(\"a.raceId\") == col(\"b.raceId\")) & \n",
    "    (col(\"a.age\") == col(\"b.min_age\"))\n",
    ").select(\n",
    "    col(\"a.raceId\"), \n",
    "    col(\"a.driverId\"), \n",
    "    col(\"a.age\")\n",
    ")\n",
    "\n",
    "oldest_drivers = results_with_age.alias(\"a\").join(\n",
    "    oldest.alias(\"b\"), \n",
    "    on=[col(\"a.raceId\") == col(\"b.raceId\"), col(\"a.age\") == col(\"b.max_age\")]\n",
    ").select(\n",
    "    col(\"a.raceId\"), \n",
    "    col(\"a.driverId\"), \n",
    "    col(\"a.age\")\n",
    ")\n",
    "\n",
    "# 显示结果\n",
    "youngest_drivers.show(5)\n",
    "oldest_drivers.show(5)"
   ]
  },
  {
   "cell_type": "markdown",
   "metadata": {
    "application/vnd.databricks.v1+cell": {
     "cellMetadata": {
      "byteLimit": 2048000,
      "rowLimit": 10000
     },
     "inputWidgets": {},
     "nuid": "bbf459c2-d2ce-417c-abcd-f0d513293299",
     "showTitle": false,
     "tableResultSettingsMap": {},
     "title": ""
    }
   },
   "source": [
    "5. [`20 pts`] For a given race, which driver has the most wins and losses?"
   ]
  },
  {
   "cell_type": "code",
   "execution_count": 0,
   "metadata": {
    "application/vnd.databricks.v1+cell": {
     "cellMetadata": {
      "byteLimit": 2048000,
      "rowLimit": 10000
     },
     "inputWidgets": {},
     "nuid": "a0c31521-243e-46f4-95a0-44db8a61c216",
     "showTitle": false,
     "tableResultSettingsMap": {},
     "title": ""
    }
   },
   "outputs": [],
   "source": [
    "from pyspark.sql.functions import col, count, max\n",
    "\n",
    "# 计算每个车手在每场比赛中的胜利次数和失败次数\n",
    "results_with_wins_losses = df_results.withColumn(\n",
    "    \"win\", col(\"positionOrder\") == 1\n",
    ").withColumn(\n",
    "    \"loss\", col(\"positionOrder\") != 1\n",
    ").groupBy(\"raceId\", \"driverId\").agg(\n",
    "    count(\"win\").alias(\"wins\"),\n",
    "    count(\"loss\").alias(\"losses\")\n",
    ")\n",
    "\n",
    "# 找出每场比赛胜利次数最多的车手\n",
    "most_wins = results_with_wins_losses.groupBy(\"raceId\").agg(\n",
    "    max(\"wins\").alias(\"max_wins\")\n",
    ")\n",
    "\n",
    "# 找出每场比赛失败次数最多的车手\n",
    "most_losses = results_with_wins_losses.groupBy(\"raceId\").agg(\n",
    "    max(\"losses\").alias(\"max_losses\")\n",
    ")\n",
    "\n",
    "# 将结果与原始数据集进行连接，以找到对应的车手\n",
    "most_wins_drivers = results_with_wins_losses.alias(\"a\").join(\n",
    "    most_wins.alias(\"b\"), \n",
    "    on=[col(\"a.raceId\") == col(\"b.raceId\"), col(\"a.wins\") == col(\"b.max_wins\")]\n",
    ").select(\n",
    "    col(\"a.raceId\"), \n",
    "    col(\"a.driverId\"), \n",
    "    col(\"a.wins\")\n",
    ").dropDuplicates([\"raceId\", \"driverId\"])\n",
    "\n",
    "most_losses_drivers = results_with_wins_losses.alias(\"a\").join(\n",
    "    most_losses.alias(\"b\"), \n",
    "    on=[col(\"a.raceId\") == col(\"b.raceId\"), col(\"a.losses\") == col(\"b.max_losses\")]\n",
    ").select(\n",
    "    col(\"a.raceId\"), \n",
    "    col(\"a.driverId\"), \n",
    "    col(\"a.losses\")\n",
    ").dropDuplicates([\"raceId\", \"driverId\"])\n",
    "\n",
    "# 显示结果\n",
    "most_wins_drivers.show(5)\n",
    "most_losses_drivers.show(5)"
   ]
  },
  {
   "cell_type": "markdown",
   "metadata": {
    "application/vnd.databricks.v1+cell": {
     "cellMetadata": {
      "byteLimit": 2048000,
      "rowLimit": 10000
     },
     "inputWidgets": {},
     "nuid": "457b13e2-54fd-42ca-b1fd-c3d23c795ea0",
     "showTitle": false,
     "tableResultSettingsMap": {},
     "title": ""
    }
   },
   "source": [
    "6. Select the winning driver (the champion) of each race from the race results."
   ]
  },
  {
   "cell_type": "code",
   "execution_count": 0,
   "metadata": {
    "application/vnd.databricks.v1+cell": {
     "cellMetadata": {
      "byteLimit": 2048000,
      "rowLimit": 10000
     },
     "inputWidgets": {},
     "nuid": "3445ab33-9657-4938-b990-9aa76c07638d",
     "showTitle": false,
     "tableResultSettingsMap": {},
     "title": ""
    }
   },
   "outputs": [],
   "source": [
    "winners = df_results.filter(col(\"positionOrder\") == \"1\") \\\n",
    "    .select(\"raceId\", \"driverId\").withColumnRenamed(\"driverId\", \"winnerId\")\n",
    "\n",
    "winners.show(5)"
   ]
  }
 ],
 "metadata": {
  "application/vnd.databricks.v1+notebook": {
   "computePreferences": null,
   "dashboards": [],
   "environmentMetadata": {
    "base_environment": "",
    "environment_version": "2"
   },
   "inputWidgetPreferences": null,
   "language": "python",
   "notebookMetadata": {
    "pythonIndentUnit": 4
   },
   "notebookName": "hw",
   "widgets": {}
  },
  "language_info": {
   "name": "python"
  }
 },
 "nbformat": 4,
 "nbformat_minor": 0
}
